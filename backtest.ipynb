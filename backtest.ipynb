{
 "cells": [
  {
   "cell_type": "code",
   "execution_count": 4,
   "metadata": {},
   "outputs": [],
   "source": [
    "# -*- coding: utf-8 -*-\n",
    "\"\"\"\n",
    "Created on Sun Apr 18 20:00:06 2021\n",
    "\n",
    "@author: Meng Tian\n",
    "\"\"\"\n",
    "\n",
    "import os \n",
    "import pandas as pd\n",
    "os.chdir(r\"/Users/wuqian/Desktop/Spring2021\")\n",
    "import numpy as np\n",
    "import omega_w\n",
    "\n",
    "\n",
    "def backtest(etf_ret, data, ret_period, var_period, lamb, beta_t):\n",
    "    returns = []\n",
    "    omega = []\n",
    "    omega_p = np.array([1/13]*13)\n",
    "    look_back =  max(ret_period,var_period)\n",
    "    next_chang_date = look_back-1\n",
    "    \n",
    "    for i in range(len(etf_ret)):\n",
    "        omega.append(omega_p)\n",
    "        \n",
    "        today_return = np.asarray(etf_ret.iloc[i,:])\n",
    "        pr = np.dot(omega_p,today_return)\n",
    "        returns.append(pr)\n",
    "        \n",
    "        if i == next_chang_date:\n",
    "            omega_p = omega_w.get_omega(\n",
    "                return_r = etf_ret.iloc[i+1-ret_period:i+1],        \n",
    "                factor_r =data.iloc[i+1-ret_period:i+1],\n",
    "                return_v = etf_ret.iloc[i+1-var_period:i+1],\n",
    "                factor_v = data.iloc[i+1-var_period:i+1],\n",
    "                lamb_ = lamb,\n",
    "                beta_tm_ = beta_t,\n",
    "                wp_ = omega_p)\n",
    "            next_chang_date += 5\n",
    "        else:\n",
    "            continue\n",
    "    return returns,omega"
   ]
  },
  {
   "cell_type": "code",
   "execution_count": null,
   "metadata": {},
   "outputs": [],
   "source": []
  }
 ],
 "metadata": {
  "kernelspec": {
   "display_name": "Python 3",
   "language": "python",
   "name": "python3"
  },
  "language_info": {
   "codemirror_mode": {
    "name": "ipython",
    "version": 3
   },
   "file_extension": ".py",
   "mimetype": "text/x-python",
   "name": "python",
   "nbconvert_exporter": "python",
   "pygments_lexer": "ipython3",
   "version": "3.7.6"
  }
 },
 "nbformat": 4,
 "nbformat_minor": 4
}
