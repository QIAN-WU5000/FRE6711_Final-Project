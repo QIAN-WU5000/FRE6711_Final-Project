{
 "cells": [
  {
   "cell_type": "code",
   "execution_count": 1,
   "metadata": {},
   "outputs": [],
   "source": [
    "import numpy as np\n",
    "import pandas as pd\n",
    "from scipy.stats import kurtosis,skew,norm\n",
    "\n",
    "def stats(X,risk_free,confilevel,position):\n",
    "\n",
    "    Kurtos=kurtosis(X*250)\n",
    "    skewness=skew(X*250)\n",
    "    daily_Kurt=kurtosis(X)\n",
    "    daily_sk=skew(X)\n",
    "    \n",
    "    p_v =np.cumprod((X+1))*100\n",
    "    p_v_extend = pd.DataFrame(np.append([p_v.iloc[0,0]]*9,p_v))\n",
    "    Roll_Max = p_v_extend.rolling(window=10).max()\n",
    "\n",
    "    daily_return=np.cumprod((X+1))\n",
    "    \n",
    "    annual_return = (np.power(daily_return.iloc[-1,0],1/len(X)))**250\n",
    "\n",
    "    annual_Mean_Ret=np.mean(X)*250\n",
    "    \n",
    "    annual_MeanRet_geometric=(np.power(daily_return.iloc[-1,0],1/len(X))-1)*250\n",
    "\n",
    "    annual_MinRet = np.min(X)*250\n",
    "    \n",
    "    tenday= float(np.min(p_v_extend/Roll_Max-1)[0])\n",
    "    \n",
    "\n",
    "    vol=np.std(X)*np.sqrt(250)\n",
    "    \n",
    "    \n",
    "    SharpeRatio=(annual_Mean_Ret-risk_free)/vol\n",
    "    \n",
    "    \n",
    "    z=norm.ppf(1-confilevel)\n",
    "    t=z+((1/6)*(z**2-1)*daily_sk)+((1/24)*(z**3-3*z))*daily_Kurt-((1/36)*(2*z**3-5*z)*(daily_sk**2))\n",
    "    mVaR= position*(np.mean(X)+t*np.std(X))*np.sqrt(250)\n",
    "    alpha=norm.ppf(1-confilevel, np.mean(X), np.std(X))\n",
    "    VaR= position*(alpha)\n",
    "    annualVaR=VaR*np.sqrt(250)\n",
    "    CVaR = position*np.mean(X[X<=np.quantile(X,1-confilevel)])[0]*np.sqrt(250)\n",
    "    df=pd.DataFrame([annual_return,annual_Mean_Ret[0],annual_MeanRet_geometric,annual_MinRet[0],tenday,vol[0],SharpeRatio[0],Kurtos[0],skewness[0],mVaR[0],VaR[0],annualVaR[0],CVaR],\n",
    "                    index=['Annual Return','Annual Mean Return','Annual Geometric Mean Return','Annual Minimum Return','Max 10day','vol',\n",
    "                           'SharpeRatio','Annual Kurtosis','Annual Skewness','mVaR','Daily VaR','Annual VaR','Annual CVaR'],\n",
    "                    columns=['result'])\n",
    "    return df\n",
    "    \n",
    "\n",
    "\n",
    "\n",
    "\n",
    "\n",
    "\n"
   ]
  },
  {
   "cell_type": "code",
   "execution_count": null,
   "metadata": {},
   "outputs": [],
   "source": []
  }
 ],
 "metadata": {
  "kernelspec": {
   "display_name": "Python 3",
   "language": "python",
   "name": "python3"
  },
  "language_info": {
   "codemirror_mode": {
    "name": "ipython",
    "version": 3
   },
   "file_extension": ".py",
   "mimetype": "text/x-python",
   "name": "python",
   "nbconvert_exporter": "python",
   "pygments_lexer": "ipython3",
   "version": "3.7.6"
  }
 },
 "nbformat": 4,
 "nbformat_minor": 4
}
